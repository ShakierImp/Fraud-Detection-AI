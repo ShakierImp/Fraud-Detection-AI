{
 "cells": [
  {
   "cell_type": "code",
   "execution_count": null,
   "id": "70de9ee3",
   "metadata": {},
   "outputs": [],
   "source": [
    "# Cell 1 [Imports and Setup]\n",
    "# Import necessary libraries\n",
    "import pandas as pd\n",
    "import numpy as np\n",
    "import matplotlib.pyplot as plt\n",
    "\n",
    "# This ensures plots display inline in Jupyter\n",
    "%matplotlib inline\n",
    "\n",
    "# Import the data loading function from project module\n",
    "from src.data_collection import get_sample_df\n"
   ]
  },
  {
   "cell_type": "code",
   "execution_count": null,
   "id": "78e86447",
   "metadata": {},
   "outputs": [],
   "source": [
    "# Cell 2 [Load Data]\n",
    "# Load the dataset using the provided function\n",
    "df = get_sample_df()\n",
    "\n",
    "# Display the first 5 rows of the DataFrame\n",
    "display(df.head())\n"
   ]
  },
  {
   "cell_type": "code",
   "execution_count": null,
   "id": "e85a1277",
   "metadata": {},
   "outputs": [],
   "source": [
    "# Cell 3 [Basic Dataset Information]\n",
    "# Display info about data types, non-null counts, and memory usage\n",
    "df.info()\n",
    "\n",
    "# Display basic statistical summary of numerical columns\n",
    "df.describe()\n"
   ]
  },
  {
   "cell_type": "code",
   "execution_count": null,
   "id": "e53527c3",
   "metadata": {},
   "outputs": [],
   "source": [
    "# Cell 4 [Class Distribution]\n",
    "# Show class distribution for 'label' column\n",
    "print(\"Class Distribution:\")\n",
    "print(df['label'].value_counts())\n",
    "\n",
    "# Plot bar chart of class distribution\n",
    "df['label'].value_counts().plot(\n",
    "    kind='bar',\n",
    "    color=['skyblue', 'salmon']\n",
    ")\n",
    "plt.title(\"Class Distribution (0 = Legitimate, 1 = Suspicious)\")\n",
    "plt.xlabel(\"Label\")\n",
    "plt.ylabel(\"Count\")\n",
    "plt.show()\n"
   ]
  },
  {
   "cell_type": "code",
   "execution_count": null,
   "id": "1b94603b",
   "metadata": {},
   "outputs": [],
   "source": [
    "# Cell 5 [Distribution of Transaction Amount]\n",
    "# Plot histogram of transaction amounts\n",
    "plt.hist(df['amount'], bins=20, color='steelblue', edgecolor='black')\n",
    "plt.title(\"Distribution of Transaction Amounts\")\n",
    "plt.xlabel(\"Transaction Amount\")\n",
    "plt.ylabel(\"Frequency\")\n",
    "plt.show()\n"
   ]
  },
  {
   "cell_type": "code",
   "execution_count": null,
   "id": "fdf0adb6",
   "metadata": {},
   "outputs": [],
   "source": [
    "# Cell 6 [Transaction Hour Analysis]\n",
    "# Convert timestamp column to datetime format if not already\n",
    "df['timestamp'] = pd.to_datetime(df['timestamp'])\n",
    "\n",
    "# Extract hour of transaction\n",
    "df['txn_hour'] = df['timestamp'].dt.hour\n",
    "\n",
    "# Plot bar chart of number of transactions per hour\n",
    "df['txn_hour'].value_counts().sort_index().plot(\n",
    "    kind='bar',\n",
    "    color='teal'\n",
    ")\n",
    "plt.title(\"Number of Transactions by Hour of Day\")\n",
    "plt.xlabel(\"Hour of Day (0-23)\")\n",
    "plt.ylabel(\"Number of Transactions\")\n",
    "plt.show()\n"
   ]
  },
  {
   "cell_type": "code",
   "execution_count": null,
   "id": "3a6c77b7",
   "metadata": {},
   "outputs": [],
   "source": [
    "# Cell 7 [Correlation Heatmap]\n",
    "# Select numerical columns for correlation\n",
    "num_cols = ['amount', 'txn_hour']\n",
    "corr_matrix = df[num_cols].corr()\n",
    "\n",
    "# Plot heatmap using matshow\n",
    "plt.matshow(corr_matrix, cmap='coolwarm')\n",
    "plt.colorbar()\n",
    "plt.xticks(range(len(num_cols)), num_cols, rotation=45)\n",
    "plt.yticks(range(len(num_cols)), num_cols)\n",
    "plt.title(\"Correlation Heatmap\", pad=20)\n",
    "plt.show()\n"
   ]
  },
  {
   "cell_type": "code",
   "execution_count": null,
   "id": "d5bc1201",
   "metadata": {},
   "outputs": [],
   "source": [
    "# Cell 8 [Top Senders and Receivers]\n",
    "# Create subplot figure\n",
    "fig, axes = plt.subplots(1, 2, figsize=(14, 6))\n",
    "\n",
    "# Top 10 senders by frequency\n",
    "df['sender_id'].value_counts().head(10).plot(\n",
    "    kind='bar',\n",
    "    ax=axes[0],\n",
    "    color='steelblue'\n",
    ")\n",
    "axes[0].set_title(\"Top 10 Senders\")\n",
    "axes[0].set_xlabel(\"Sender ID\")\n",
    "axes[0].set_ylabel(\"Frequency\")\n",
    "\n",
    "# Top 10 receivers by frequency\n",
    "df['receiver_id'].value_counts().head(10).plot(\n",
    "    kind='bar',\n",
    "    ax=axes[1],\n",
    "    color='darkorange'\n",
    ")\n",
    "axes[1].set_title(\"Top 10 Receivers\")\n",
    "axes[1].set_xlabel(\"Receiver ID\")\n",
    "axes[1].set_ylabel(\"Frequency\")\n",
    "\n",
    "plt.tight_layout()\n",
    "plt.show()\n"
   ]
  },
  {
   "cell_type": "code",
   "execution_count": null,
   "id": "989ed0a3",
   "metadata": {},
   "outputs": [],
   "source": [
    "# Cell 9 [Transaction Amount by Label]\n",
    "# Boxplot of transaction amounts grouped by label\n",
    "df.boxplot(column='amount', by='label', grid=False)\n",
    "plt.title(\"Transaction Amount Distribution by Label\")\n",
    "plt.suptitle(\"\")  # remove automatic 'Boxplot grouped by' title\n",
    "plt.xlabel(\"Label (0 = Legitimate, 1 = Suspicious)\")\n",
    "plt.ylabel(\"Transaction Amount\")\n",
    "plt.show()\n"
   ]
  }
 ],
 "metadata": {
  "kernelspec": {
   "display_name": "Python 3",
   "language": "python",
   "name": "python3"
  },
  "language_info": {
   "name": "python",
   "version": "3.12.10"
  }
 },
 "nbformat": 4,
 "nbformat_minor": 5
}
